{
 "cells": [
  {
   "cell_type": "code",
   "execution_count": 1,
   "metadata": {},
   "outputs": [
    {
     "name": "stdout",
     "output_type": "stream",
     "text": [
      "Started: 2020-04-27 02:58:07.584662\n",
      "  % Total    % Received % Xferd  Average Speed   Time    Time     Time  Current\n",
      "                                 Dload  Upload   Total   Spent    Left  Speed\n",
      "100   127  100   127    0     0    725      0 --:--:-- --:--:-- --:--:--   725\n",
      "100 2633M    0 2633M    0     0  12.9M      0 --:--:--  0:03:23 --:--:-- 12.9M\n",
      "Finished downloading: 2020-04-27 03:01:31.536981, took 0:03:23.952149\n"
     ]
    }
   ],
   "source": [
    "%run download.ipynb"
   ]
  },
  {
   "cell_type": "code",
   "execution_count": 3,
   "metadata": {},
   "outputs": [
    {
     "name": "stdout",
     "output_type": "stream",
     "text": [
      "Started: 2020-04-27 03:43:23.833609\n",
      "Finished unzipping repo archive: 2020-04-27 03:43:52.007650, took 0:00:28.173879\n"
     ]
    }
   ],
   "source": [
    "%run unzip_repo.ipynb"
   ]
  },
  {
   "cell_type": "code",
   "execution_count": 5,
   "metadata": {},
   "outputs": [
    {
     "name": "stdout",
     "output_type": "stream",
     "text": [
      "Started: 2020-04-27 03:46:01.638761\n",
      "Working on:  ./data/OpenAccess-master/metadata/objects/FBR\n",
      "Working on:  ./data/OpenAccess-master/metadata/objects/HSFA\n",
      "Working on:  ./data/OpenAccess-master/metadata/objects/NMNHPALEO\n",
      "Working on:  ./data/OpenAccess-master/metadata/objects/NMNHHERPS\n",
      "Working on:  ./data/OpenAccess-master/metadata/objects/SI\n",
      "Working on:  ./data/OpenAccess-master/metadata/objects/NAA\n",
      "Working on:  ./data/OpenAccess-master/metadata/objects/SAAM\n",
      "Working on:  ./data/OpenAccess-master/metadata/objects/ACAH\n",
      "Working on:  ./data/OpenAccess-master/metadata/objects/FSA\n",
      "Working on:  ./data/OpenAccess-master/metadata/objects/SIA\n",
      "Working on:  ./data/OpenAccess-master/metadata/objects/NMAH\n",
      "Working on:  ./data/OpenAccess-master/metadata/objects/CHNDM\n",
      "Working on:  ./data/OpenAccess-master/metadata/objects/NPG\n",
      "Working on:  ./data/OpenAccess-master/metadata/objects/ACM\n",
      "Working on:  ./data/OpenAccess-master/metadata/objects/NMNHANTHRO\n",
      "Working on:  ./data/OpenAccess-master/metadata/objects/SIL\n",
      "Working on:  ./data/OpenAccess-master/metadata/objects/FSG\n",
      "Working on:  ./data/OpenAccess-master/metadata/objects/NMNHMAMMALS\n",
      "Working on:  ./data/OpenAccess-master/metadata/objects/NMNHFISHES\n",
      "Working on:  ./data/OpenAccess-master/metadata/objects/NMNHENTO\n",
      "Working on:  ./data/OpenAccess-master/metadata/objects/NMAAHC\n",
      "Working on:  ./data/OpenAccess-master/metadata/objects/HAC\n",
      "Working on:  ./data/OpenAccess-master/metadata/objects/NMNHINV\n",
      "Working on:  ./data/OpenAccess-master/metadata/objects/NMNHBOTANY\n",
      "Working on:  ./data/OpenAccess-master/metadata/objects/NMNHEDUCATION\n",
      "Working on:  ./data/OpenAccess-master/metadata/objects/NMNHBIRDS\n",
      "Working on:  ./data/OpenAccess-master/metadata/objects/NPM\n",
      "Working on:  ./data/OpenAccess-master/metadata/objects/HMSG\n",
      "Working on:  ./data/OpenAccess-master/metadata/objects/NMAfA\n",
      "Working on:  ./data/OpenAccess-master/metadata/objects/NASM\n",
      "Working on:  ./data/OpenAccess-master/metadata/objects/NMNHMINSCI\n",
      "Finished uncompressing data: 2020-04-27 04:02:37.444270, took 0:16:35.805359\n"
     ]
    }
   ],
   "source": [
    "%run unzip_repo_contents.ipynb"
   ]
  },
  {
   "cell_type": "code",
   "execution_count": 6,
   "metadata": {},
   "outputs": [
    {
     "name": "stdout",
     "output_type": "stream",
     "text": [
      "Done\n"
     ]
    }
   ],
   "source": [
    "%run basic_stats.ipynb"
   ]
  },
  {
   "cell_type": "code",
   "execution_count": null,
   "metadata": {},
   "outputs": [],
   "source": []
  }
 ],
 "metadata": {
  "kernelspec": {
   "display_name": "Python 3",
   "language": "python",
   "name": "python3"
  },
  "language_info": {
   "codemirror_mode": {
    "name": "ipython",
    "version": 3
   },
   "file_extension": ".py",
   "mimetype": "text/x-python",
   "name": "python",
   "nbconvert_exporter": "python",
   "pygments_lexer": "ipython3",
   "version": "3.8.2"
  }
 },
 "nbformat": 4,
 "nbformat_minor": 4
}
