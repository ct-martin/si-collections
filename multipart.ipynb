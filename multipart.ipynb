{
 "cells": [
  {
   "cell_type": "code",
   "execution_count": 1,
   "metadata": {},
   "outputs": [
    {
     "name": "stdout",
     "output_type": "stream",
     "text": [
      "Started: 2020-10-17 11:24:35.251558\n",
      "  % Total    % Received % Xferd  Average Speed   Time    Time     Time  Current\n",
      "                                 Dload  Upload   Total   Spent    Left  Speed\n",
      "100   127  100   127    0     0    383      0 --:--:-- --:--:-- --:--:--   383\n",
      "100 2842M    0 2842M    0     0  7112k      0 --:--:--  0:06:49 --:--:-- 6687k   0     0  7048k      0 --:--:--  0:00:38 --:--:-- 7094k1M    0  351M    0     0  7117k      0 --:--:--  0:00:50 --:--:-- 7318k  7097k      0 --:--:--  0:03:12 --:--:-- 7036k   0 1716M    0     0  7157k      0 --:--:--  0:04:05 --:--:-- 6684k\n",
      "Finished downloading: 2020-10-17 11:31:24.634341, took 0:06:49.382423\n"
     ]
    }
   ],
   "source": [
    "%run download.ipynb"
   ]
  },
  {
   "cell_type": "code",
   "execution_count": 8,
   "metadata": {},
   "outputs": [
    {
     "name": "stdout",
     "output_type": "stream",
     "text": [
      "Started: 2020-10-17 11:48:08.615617\n",
      "Finished unzipping repo archive: 2020-10-17 11:48:32.643882, took 0:00:24.027921\n"
     ]
    }
   ],
   "source": [
    "%run unzip_repo.ipynb"
   ]
  },
  {
   "cell_type": "code",
   "execution_count": 9,
   "metadata": {},
   "outputs": [
    {
     "name": "stdout",
     "output_type": "stream",
     "text": [
      "Started: 2020-10-17 11:48:32.653537\n",
      "Working on:  ./data/OpenAccess-master/metadata/objects/FBR\n",
      "Working on:  ./data/OpenAccess-master/metadata/objects/HSFA\n",
      "Working on:  ./data/OpenAccess-master/metadata/objects/NMNHPALEO\n",
      "Working on:  ./data/OpenAccess-master/metadata/objects/NMNHHERPS\n",
      "Working on:  ./data/OpenAccess-master/metadata/objects/SI\n",
      "Working on:  ./data/OpenAccess-master/metadata/objects/NAA\n",
      "Working on:  ./data/OpenAccess-master/metadata/objects/SAAM\n",
      "Working on:  ./data/OpenAccess-master/metadata/objects/ACAH\n",
      "Working on:  ./data/OpenAccess-master/metadata/objects/FSA\n",
      "Working on:  ./data/OpenAccess-master/metadata/objects/SIA\n",
      "Working on:  ./data/OpenAccess-master/metadata/objects/NMAH\n",
      "Working on:  ./data/OpenAccess-master/metadata/objects/CHNDM\n",
      "Working on:  ./data/OpenAccess-master/metadata/objects/NPG\n",
      "Working on:  ./data/OpenAccess-master/metadata/objects/ACM\n",
      "Working on:  ./data/OpenAccess-master/metadata/objects/NMNHANTHRO\n",
      "Working on:  ./data/OpenAccess-master/metadata/objects/SIL\n",
      "Working on:  ./data/OpenAccess-master/metadata/objects/FSG\n",
      "Working on:  ./data/OpenAccess-master/metadata/objects/NMNHMAMMALS\n",
      "Working on:  ./data/OpenAccess-master/metadata/objects/NMNHFISHES\n",
      "Working on:  ./data/OpenAccess-master/metadata/objects/NMNHENTO\n",
      "Working on:  ./data/OpenAccess-master/metadata/objects/NMAI\n",
      "Working on:  ./data/OpenAccess-master/metadata/objects/NMAAHC\n",
      "Working on:  ./data/OpenAccess-master/metadata/objects/HAC\n",
      "Working on:  ./data/OpenAccess-master/metadata/objects/NMNHINV\n",
      "Working on:  ./data/OpenAccess-master/metadata/objects/NMNHBOTANY\n",
      "Working on:  ./data/OpenAccess-master/metadata/objects/NMNHEDUCATION\n",
      "Working on:  ./data/OpenAccess-master/metadata/objects/NMNHBIRDS\n",
      "Working on:  ./data/OpenAccess-master/metadata/objects/CFCHFOLKLIFE\n",
      "Working on:  ./data/OpenAccess-master/metadata/objects/NPM\n",
      "Working on:  ./data/OpenAccess-master/metadata/objects/HMSG\n",
      "Working on:  ./data/OpenAccess-master/metadata/objects/NMAfA\n",
      "Working on:  ./data/OpenAccess-master/metadata/objects/NASM\n",
      "Working on:  ./data/OpenAccess-master/metadata/objects/NMNHMINSCI\n",
      "Finished uncompressing data: 2020-10-17 12:03:33.898421, took 0:15:01.244730\n"
     ]
    }
   ],
   "source": [
    "%run unzip_repo_contents.ipynb"
   ]
  },
  {
   "cell_type": "code",
   "execution_count": 11,
   "metadata": {},
   "outputs": [
    {
     "name": "stdout",
     "output_type": "stream",
     "text": [
      "Done\n"
     ]
    }
   ],
   "source": [
    "%run basic_stats.ipynb"
   ]
  },
  {
   "cell_type": "code",
   "execution_count": null,
   "metadata": {},
   "outputs": [],
   "source": []
  }
 ],
 "metadata": {
  "kernelspec": {
   "display_name": "Python 3",
   "language": "python",
   "name": "python3"
  },
  "language_info": {
   "codemirror_mode": {
    "name": "ipython",
    "version": 3
   },
   "file_extension": ".py",
   "mimetype": "text/x-python",
   "name": "python",
   "nbconvert_exporter": "python",
   "pygments_lexer": "ipython3",
   "version": "3.8.5"
  }
 },
 "nbformat": 4,
 "nbformat_minor": 4
}
