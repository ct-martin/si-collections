{
 "cells": [
  {
   "cell_type": "code",
   "execution_count": null,
   "metadata": {},
   "outputs": [],
   "source": [
    "from datetime import datetime\n",
    "import bz2\n",
    "import glob"
   ]
  },
  {
   "cell_type": "code",
   "execution_count": null,
   "metadata": {},
   "outputs": [],
   "source": [
    "from datetime import datetime\n",
    "startTime = datetime.now()\n",
    "print(\"Started: \" + str(startTime))\n",
    "\n",
    "stepTime = datetime.now()"
   ]
  },
  {
   "cell_type": "code",
   "execution_count": null,
   "metadata": {},
   "outputs": [],
   "source": [
    "def printStepTime(text):\n",
    "    global stepTime\n",
    "    endTime = datetime.now()\n",
    "    print(\"Finished \" + text + \": \" + str(endTime) + \", took \" + str(endTime - stepTime))\n",
    "    stepTime = endTime"
   ]
  },
  {
   "cell_type": "code",
   "execution_count": null,
   "metadata": {},
   "outputs": [],
   "source": [
    "# Iterate through data in repo and uncompress it\n",
    "# Put in one giant file; we'll process better later\n",
    "with open('data/all_data.ndjson','w') as out:\n",
    "  for div in glob.glob('./data/OpenAccess-master/metadata/objects/*'):\n",
    "    print('Working on: ',div)\n",
    "    for file in glob.glob(f'{div}/*'):\n",
    "      with bz2.open(file, \"rb\") as f:\n",
    "        out.write(f.read().decode())\n",
    "\n",
    "printStepTime(\"uncompressing data\")"
   ]
  }
 ],
 "metadata": {
  "kernelspec": {
   "display_name": "Python 3",
   "language": "python",
   "name": "python3"
  },
  "language_info": {
   "codemirror_mode": {
    "name": "ipython",
    "version": 3
   },
   "file_extension": ".py",
   "mimetype": "text/x-python",
   "name": "python",
   "nbconvert_exporter": "python",
   "pygments_lexer": "ipython3",
   "version": "3.8.2"
  }
 },
 "nbformat": 4,
 "nbformat_minor": 4
}
