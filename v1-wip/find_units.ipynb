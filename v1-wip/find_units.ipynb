{
 "cells": [
  {
   "cell_type": "code",
   "execution_count": 17,
   "metadata": {},
   "outputs": [],
   "source": [
    "import ujson\n",
    "import re\n",
    "from datetime import datetime\n",
    "import collections"
   ]
  },
  {
   "cell_type": "code",
   "execution_count": 7,
   "metadata": {},
   "outputs": [],
   "source": [
    "count = 0\n",
    "unitMap = {}"
   ]
  },
  {
   "cell_type": "code",
   "execution_count": null,
   "metadata": {},
   "outputs": [],
   "source": [
    "startTime = datetime.now()\n",
    "print(\"Started: \" + str(startTime))\n",
    "with open('all_data.ndjson') as infile:\n",
    "    for line in infile:\n",
    "        data = ujson.loads(line)\n",
    "        \n",
    "        count += 1\n",
    "        if count % 500000 == 0:\n",
    "            print(count)\n",
    "        \n",
    "        unitCode = data['unitCode']\n",
    "        dataSource = data['content']['descriptiveNonRepeating']['data_source']\n",
    "        if not unitCode in unitMap:\n",
    "            unitMap[unitCode] = []\n",
    "        if not dataSource in unitMap[unitCode]:\n",
    "            unitMap[unitCode].append(dataSource)\n",
    "\n",
    "endTime = datetime.now()\n",
    "print(\"Finished: \" + str(endTime))\n",
    "print(\"Time (s): \" + str(endTime - startTime))"
   ]
  },
  {
   "cell_type": "code",
   "execution_count": 18,
   "metadata": {},
   "outputs": [
    {
     "name": "stdout",
     "output_type": "stream",
     "text": [
      "ACAH: Archives Center, National Museum of American History\n",
      "ACM: Anacostia Community Museum\n",
      "CHNDM: Cooper Hewitt, Smithsonian Design Museum\n",
      "FBR: Smithsonian Field Book Project\n",
      "FSA: Freer Gallery of Art and Arthur M. Sackler Gallery Archives\n",
      "FSG: Freer Gallery of Art and Arthur M. Sackler Gallery\n",
      "HAC: Smithsonian Gardens\n",
      "HMSG: Hirshhorn Museum and Sculpture Garden\n",
      "HSFA: Human Studies Film Archives\n",
      "NAA: National Anthropological Archives\n",
      "NASM: National Air and Space Museum\n",
      "NMAAHC: National Museum of African American History and Culture\n",
      "NMAH: National Museum of American History\n",
      "NMAfA: National Museum of African Art\n",
      "NMNHANTHRO: NMNH - Anthropology Dept.\n",
      "NMNHBIRDS: NMNH - Vertebrate Zoology - Birds Division\n",
      "NMNHBOTANY: NMNH - Botany Dept.\n",
      "NMNHEDUCATION: NMNH - Education & Outreach\n",
      "NMNHENTO: NMNH - Entomology Dept.\n",
      "NMNHFISHES: NMNH - Vertebrate Zoology - Fishes Division\n",
      "NMNHHERPS: NMNH - Vertebrate Zoology - Herpetology Division\n",
      "NMNHINV: NMNH - Invertebrate Zoology Dept.\n",
      "NMNHMAMMALS: NMNH - Vertebrate Zoology - Mammals Division\n",
      "NMNHMINSCI: NMNH - Mineral Sciences Dept.\n",
      "NMNHPALEO: NMNH - Paleobiology Dept.\n",
      "NPG: National Portrait Gallery\n",
      "NPM: National Postal Museum\n",
      "SAAM: Smithsonian American Art Museum\n",
      "SI: Smithsonian Institution, Digitization Program Office\n",
      "SIA: Smithsonian Institution Archives\n",
      "SIL: Smithsonian Libraries\n"
     ]
    }
   ],
   "source": [
    "od = collections.OrderedDict(sorted(unitMap.items()))\n",
    "for k, v in od.items():\n",
    "    print(k + \": \" + \";\".join(v))"
   ]
  },
  {
   "cell_type": "code",
   "execution_count": null,
   "metadata": {},
   "outputs": [],
   "source": []
  }
 ],
 "metadata": {
  "kernelspec": {
   "display_name": "Python 3",
   "language": "python",
   "name": "python3"
  },
  "language_info": {
   "codemirror_mode": {
    "name": "ipython",
    "version": 3
   },
   "file_extension": ".py",
   "mimetype": "text/x-python",
   "name": "python",
   "nbconvert_exporter": "python",
   "pygments_lexer": "ipython3",
   "version": "3.8.1"
  }
 },
 "nbformat": 4,
 "nbformat_minor": 4
}
