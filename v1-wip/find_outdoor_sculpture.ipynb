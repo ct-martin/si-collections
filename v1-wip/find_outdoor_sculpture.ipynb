{
 "cells": [
  {
   "cell_type": "code",
   "execution_count": null,
   "metadata": {},
   "outputs": [],
   "source": [
    "import ujson\n",
    "import re\n",
    "from datetime import datetime\n",
    "import collections"
   ]
  },
  {
   "cell_type": "code",
   "execution_count": null,
   "metadata": {},
   "outputs": [],
   "source": [
    "count = 0\n",
    "#saam = []\n",
    "sculpture = []"
   ]
  },
  {
   "cell_type": "code",
   "execution_count": 3,
   "metadata": {},
   "outputs": [
    {
     "name": "stdout",
     "output_type": "stream",
     "text": [
      "Started: 2020-03-03 23:27:18.060861\n",
      "1000000\n",
      "2000000\n",
      "3000000\n",
      "4000000\n",
      "5000000\n",
      "6000000\n",
      "7000000\n",
      "8000000\n",
      "9000000\n",
      "10000000\n",
      "11000000\n",
      "Finished: 2020-03-03 23:31:28.166306\n",
      "Time (s): 0:04:10.105445\n",
      "Found:5 Outdoor Sculpture records\n"
     ]
    }
   ],
   "source": [
    "startTime = datetime.now()\n",
    "print(\"Started: \" + str(startTime))\n",
    "with open('all_data.ndjson') as infile:\n",
    "    for line in infile:\n",
    "        data = ujson.loads(line)\n",
    "        \n",
    "        count += 1\n",
    "        if count % 1000000 == 0:\n",
    "            print(count)\n",
    "        \n",
    "        unitCode = data['unitCode']\n",
    "#        if unitCode == \"SAAM\":\n",
    "#            saam.append(data)\n",
    "        \n",
    "        if 'indexedStructured' in data['content']:\n",
    "            if 'topic' in data['content']['indexedStructured']:\n",
    "                if \"Outdoor sculpture\" in data['content']['indexedStructured']['topic']:\n",
    "                    sculpture.append(data)\n",
    "\n",
    "endTime = datetime.now()\n",
    "print(\"Finished: \" + str(endTime))\n",
    "print(\"Time (s): \" + str(endTime - startTime))\n",
    "#print(\"Found:\" + str(len(saam)) + \" SAAM records\")\n",
    "print(\"Found:\" + str(len(sculpture)) + \" Outdoor Sculpture records\")"
   ]
  },
  {
   "cell_type": "code",
   "execution_count": 4,
   "metadata": {},
   "outputs": [],
   "source": [
    "#with open('saam.ndjson','w')as out:\n",
    "#    for o in saam:\n",
    "#        out.write(ujson.dumps(o) + \"\\n\")\n",
    "\n",
    "with open('outdoor_sculpture.ndjson','w')as out:\n",
    "    for o in sculpture:\n",
    "        out.write(ujson.dumps(o) + \"\\n\")"
   ]
  },
  {
   "cell_type": "code",
   "execution_count": null,
   "metadata": {},
   "outputs": [],
   "source": []
  }
 ],
 "metadata": {
  "kernelspec": {
   "display_name": "Python 3",
   "language": "python",
   "name": "python3"
  },
  "language_info": {
   "codemirror_mode": {
    "name": "ipython",
    "version": 3
   },
   "file_extension": ".py",
   "mimetype": "text/x-python",
   "name": "python",
   "nbconvert_exporter": "python",
   "pygments_lexer": "ipython3",
   "version": "3.8.1"
  }
 },
 "nbformat": 4,
 "nbformat_minor": 4
}
