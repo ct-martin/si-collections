{
 "cells": [
  {
   "cell_type": "markdown",
   "metadata": {},
   "source": [
    "Combination of the following steps & notebooks:\n",
    "1. Download SI dataset\n",
    "2. Unzip (from Matt Miller)\n",
    "3. Find Units (map codes to names)\n",
    "4. Split by unit\n",
    "5. Meta-analysis (from Matt Miller)\n",
    "6. Find Outdoor Sculpture"
   ]
  },
  {
   "cell_type": "code",
   "execution_count": 33,
   "metadata": {},
   "outputs": [],
   "source": [
    "from datetime import datetime\n",
    "import bz2\n",
    "import collections\n",
    "import glob\n",
    "import json\n",
    "import re\n",
    "import ujson"
   ]
  },
  {
   "cell_type": "code",
   "execution_count": 21,
   "metadata": {},
   "outputs": [
    {
     "name": "stdout",
     "output_type": "stream",
     "text": [
      "Started: 2020-03-04 09:50:01.780202\n"
     ]
    }
   ],
   "source": [
    "from datetime import datetime\n",
    "startTime = datetime.now()\n",
    "print(\"Started: \" + str(startTime))\n",
    "\n",
    "stepTime = datetime.now()"
   ]
  },
  {
   "cell_type": "code",
   "execution_count": 27,
   "metadata": {},
   "outputs": [],
   "source": [
    "def printStepTime(text):\n",
    "    global stepTime\n",
    "    endTime = datetime.now()\n",
    "    print(\"Finished \" + text + \": \" + str(endTime) + \", took \" + str(endTime - stepTime))\n",
    "    stepTime = endTime"
   ]
  },
  {
   "cell_type": "code",
   "execution_count": 3,
   "metadata": {},
   "outputs": [
    {
     "name": "stdout",
     "output_type": "stream",
     "text": [
      "  % Total    % Received % Xferd  Average Speed   Time    Time     Time  Current\n",
      "                                 Dload  Upload   Total   Spent    Left  Speed\n",
      "100   127  100   127    0     0    158      0 --:--:-- --:--:-- --:--:--   158\n",
      "100 2627M    0 2627M    0     0   465k      0 --:--:--  1:36:17 --:--:--  318k   0   508k      0 --:--:--  0:00:28 --:--:--  510k   520k      0 --:--:--  0:00:52 --:--:--  552k 0     0   506k      0 --:--:--  0:01:29 --:--:--  298k   0   508k      0 --:--:--  0:01:38 --:--:--  524k--:--  0:03:58 --:--:--  308kk      0 --:--:--  0:05:14 --:--:--  440k1k      0 --:--:--  0:05:43 --:--:--  390k    0     0   493k      0 --:--:--  0:05:55 --:--:--  566k   0   492k      0 --:--:--  0:05:57 --:--:--  431k-:--:--  0:07:26 --:--:--  405kk      0 --:--:--  0:07:34 --:--:--  655k 0 --:--:--  0:08:31 --:--:--  460kk      0 --:--:--  0:08:54 --:--:--  509k--  0:09:01 --:--:--  549k-:--  0:09:11 --:--:--  471k   0   493k      0 --:--:--  0:09:45 --:--:--  487k--:--:--  0:12:15 --:--:--  364k69M    0     0   484k      0 --:--:--  0:13:01 --:--:--  291k--:--:--  0:16:55 --:--:--  372k   0     0   472k      0 --:--:--  0:19:33 --:--:--  439k 0     0   472k      0 --:--:--  0:19:34 --:--:--  415k-:--  0:21:32 --:--:--  480k--:--  0:22:00 --:--:--  602k      0 --:--:--  0:22:11 --:--:--  535k 472k      0 --:--:--  0:22:58 --:--:--  526k  0   470k      0 --:--:--  0:25:16 --:--:--  408k  0   471k      0 --:--:--  0:29:11 --:--:--  506k--:--:--  0:31:34 --:--:--  317k  894M    0     0   468k      0 --:--:--  0:32:34 --:--:--  447k   0     0   467k      0 --:--:--  0:33:16 --:--:--  416k:--:--  0:34:20 --:--:--  376k  940M    0     0   465k      0 --:--:--  0:34:26 --:--:--  318k3M    0     0   465k      0 --:--:--  0:34:57 --:--:--  558k     0   464k      0 --:--:--  0:35:11 --:--:--  458k   0   464k      0 --:--:--  0:38:14 --:--:--  338kk      0 --:--:--  0:38:58 --:--:--  394k  0 --:--:--  0:39:00 --:--:--  509k   0   464k      0 --:--:--  0:39:20 --:--:--  385k   464k      0 --:--:--  0:42:36 --:--:--  778k3:28 --:--:--  229k     0   463k      0 --:--:--  0:45:28 --:--:--  456k     0   462k      0 --:--:--  0:46:05 --:--:--  487k  0 --:--:--  0:46:23 --:--:--  528k62k      0 --:--:--  0:46:28 --:--:--  555k  0     0   463k      0 --:--:--  0:47:38 --:--:--  388k    0   463k      0 --:--:--  0:47:44 --:--:--  517k01M    0     0   463k      0 --:--:--  0:47:55 --:--:--  534k2 --:--:--  609kk      0 --:--:--  0:50:01 --:--:--  514k-:--  0:50:45 --:--:--  510k  0   461k      0 --:--:--  0:53:59 --:--:--  302k     0 --:--:--  0:54:04 --:--:--  484k07M    0     0   461k      0 --:--:--  0:55:43 --:--:--  264k461k      0 --:--:--  0:55:56 --:--:--  434k0:56:34 --:--:--  504k   0   461k      0 --:--:--  0:57:24 --:--:--  465k   0 1578M    0     0   461k      0 --:--:--  0:58:23 --:--:--  601k  0 --:--:--  0:58:24 --:--:--  567k   0 --:--:--  0:59:01 --:--:--  474k1k      0 --:--:--  0:59:02 --:--:--  440k 461k      0 --:--:--  0:59:30 --:--:--  400k 0     0   462k      0 --:--:--  0:59:54 --:--:--  450k:00:13 --:--:--  435k   463k      0 --:--:--  1:01:17 --:--:--  372k   0   463k      0 --:--:--  1:03:03 --:--:--  392k --:--:--  1:03:04 --:--:--  364k  0   464k      0 --:--:--  1:03:21 --:--:--  454k64k      0 --:--:--  1:03:52 --:--:--  527k-  1:04:04 --:--:--  328k3k      0 --:--:--  1:04:14 --:--:--  553kk      0 --:--:--  1:05:25 --:--:--  454k--:--  1:06:20 --:--:--  531k    0 --:--:--  1:07:00 --:--:--  416k0   463k      0 --:--:--  1:07:28 --:--:--  658kk  463k      0 --:--:--  1:08:09 --:--:--  595k--:--  1:08:43 --:--:--  381k0 --:--:--  1:10:05 --:--:--  294k--:--  501k0   464k      0 --:--:--  1:11:57 --:--:--  583k:12:17 --:--:--  456k  0   464k      0 --:--:--  1:12:39 --:--:--  538k     0 --:--:--  1:12:44 --:--:--  557k   464k      0 --:--:--  1:13:29 --:--:--  505k463k      0 --:--:--  1:14:33 --:--:--  486k4:51 --:--:--  588k63k      0 --:--:--  1:15:00 --:--:--  254k    0   463k      0 --:--:--  1:15:22 --:--:--  430k3k      0 --:--:--  1:16:16 --:--:--  386k  0   463k      0 --:--:--  1:16:20 --:--:--  339k 1:16:55 --:--:--  511k 0 --:--:--  1:17:31 --:--:--  499kM    0     0   462k      0 --:--:--  1:18:03 --:--:--  454k 0 --:--:--  1:19:23 --:--:--  520k  0 --:--:--  1:22:31 --:--:--  654k  463k      0 --:--:--  1:22:40 --:--:--  580k   0     0   463k      0 --:--:--  1:23:34 --:--:--  457k  0     0   463k      0 --:--:--  1:23:51 --:--:--  543k--:--:--  423k    0 --:--:--  1:27:29 --:--:--  418k 462k      0 --:--:--  1:27:30 --:--:--  323k  0     0   462k      0 --:--:--  1:27:37 --:--:--  396k    0     0   462k      0 --:--:--  1:29:19 --:--:--  410k-:--:--  1:30:54 --:--:--  620k--  497k   0   464k      0 --:--:--  1:34:14 --:--:--  422k0   465k      0 --:--:--  1:35:23 --:--:--  718k  1:35:30 --:--:--  495k\n",
      "Finished downloading: 2020-03-04 02:34:08.398291, took 1:36:18.054654\n"
     ]
    }
   ],
   "source": [
    "# Download SI data\n",
    "#!curl -L https://github.com/Smithsonian/OpenAccess/archive/master.zip --output data.zip\n",
    "\n",
    "printStepTime(\"downloading\")"
   ]
  },
  {
   "cell_type": "code",
   "execution_count": null,
   "metadata": {},
   "outputs": [],
   "source": [
    "# Unzip repo\n",
    "#!unzip -q data.zip\n",
    "\n",
    "printStepTime(\"unzipping repo archive\")"
   ]
  },
  {
   "cell_type": "code",
   "execution_count": 14,
   "metadata": {},
   "outputs": [
    {
     "name": "stdout",
     "output_type": "stream",
     "text": [
      "Working on:  ./OpenAccess-master/metadata/objects/NAA\n",
      "Working on:  ./OpenAccess-master/metadata/objects/HAC\n",
      "Working on:  ./OpenAccess-master/metadata/objects/HSFA\n",
      "Working on:  ./OpenAccess-master/metadata/objects/SIL\n",
      "Working on:  ./OpenAccess-master/metadata/objects/SIA\n",
      "Working on:  ./OpenAccess-master/metadata/objects/CHNDM\n",
      "Working on:  ./OpenAccess-master/metadata/objects/NPG\n",
      "Working on:  ./OpenAccess-master/metadata/objects/NMNHFISHES\n",
      "Working on:  ./OpenAccess-master/metadata/objects/NASM\n",
      "Working on:  ./OpenAccess-master/metadata/objects/FSG\n",
      "Working on:  ./OpenAccess-master/metadata/objects/FSA\n",
      "Working on:  ./OpenAccess-master/metadata/objects/NMNHBOTANY\n",
      "Working on:  ./OpenAccess-master/metadata/objects/FBR\n",
      "Working on:  ./OpenAccess-master/metadata/objects/NMAAHC\n",
      "Working on:  ./OpenAccess-master/metadata/objects/ACM\n",
      "Working on:  ./OpenAccess-master/metadata/objects/NMNHHERPS\n",
      "Working on:  ./OpenAccess-master/metadata/objects/NMNHINV\n",
      "Working on:  ./OpenAccess-master/metadata/objects/NMNHBIRDS\n",
      "Working on:  ./OpenAccess-master/metadata/objects/NMNHENTO\n",
      "Working on:  ./OpenAccess-master/metadata/objects/SI\n",
      "Working on:  ./OpenAccess-master/metadata/objects/NMNHEDUCATION\n",
      "Working on:  ./OpenAccess-master/metadata/objects/NMNHMINSCI\n",
      "Working on:  ./OpenAccess-master/metadata/objects/NPM\n",
      "Working on:  ./OpenAccess-master/metadata/objects/SAAM\n",
      "Working on:  ./OpenAccess-master/metadata/objects/NMNHANTHRO\n",
      "Working on:  ./OpenAccess-master/metadata/objects/NMAH\n",
      "Working on:  ./OpenAccess-master/metadata/objects/ACAH\n",
      "Working on:  ./OpenAccess-master/metadata/objects/NMNHPALEO\n",
      "Working on:  ./OpenAccess-master/metadata/objects/NMNHMAMMALS\n",
      "Working on:  ./OpenAccess-master/metadata/objects/HMSG\n",
      "Working on:  ./OpenAccess-master/metadata/objects/NMAfA\n",
      "Finished uncompressing data: 2020-03-04 09:40:21.395431, took 0:23:01.619482\n"
     ]
    }
   ],
   "source": [
    "# Iterate through data in repo and uncompress it\n",
    "# Put in one giant file; we'll process better later\n",
    "with open('all_data.ndjson','w') as out:\n",
    "  for div in glob.glob('./OpenAccess-master/metadata/objects/*'):\n",
    "    print('Working on: ',div)\n",
    "    for file in glob.glob(f'{div}/*'):\n",
    "      with bz2.open(file, \"rb\") as f:\n",
    "        out.write(f.read().decode())\n",
    "\n",
    "printStepTime(\"uncompressing data\")"
   ]
  },
  {
   "cell_type": "code",
   "execution_count": 35,
   "metadata": {},
   "outputs": [],
   "source": [
    "# Get unit codes and names; count records while at it\n",
    "\n",
    "count = 0\n",
    "unitMap = {}\n",
    "unitCount = {}\n",
    "\n",
    "# Find units in data\n",
    "with open('all_data.ndjson') as infile:\n",
    "    for line in infile:\n",
    "        data = ujson.loads(line)\n",
    "        \n",
    "        count += 1\n",
    "        \n",
    "        unitCode = data['unitCode']\n",
    "        dataSource = data['content']['descriptiveNonRepeating']['data_source']\n",
    "        if not unitCode in unitMap:\n",
    "            unitMap[unitCode] = []\n",
    "        if not dataSource in unitMap[unitCode]:\n",
    "            unitMap[unitCode].append(dataSource)\n",
    "        \n",
    "        if not unitCode in unitCount:\n",
    "            unitCount[unitCode] = 0\n",
    "        unitCount[unitCode] += 1"
   ]
  },
  {
   "cell_type": "code",
   "execution_count": 36,
   "metadata": {},
   "outputs": [
    {
     "name": "stdout",
     "output_type": "stream",
     "text": [
      "Found 11355839 records\n",
      "ACAH (13 records): Archives Center, National Museum of American History\n",
      "ACM (249 records): Anacostia Community Museum\n",
      "CHNDM (40196 records): Cooper Hewitt, Smithsonian Design Museum\n",
      "FBR (1517 records): Smithsonian Field Book Project\n",
      "FSA (29 records): Freer Gallery of Art and Arthur M. Sackler Gallery Archives\n",
      "FSG (3133 records): Freer Gallery of Art and Arthur M. Sackler Gallery\n",
      "HAC (252 records): Smithsonian Gardens\n",
      "HMSG (502 records): Hirshhorn Museum and Sculpture Garden\n",
      "HSFA (78 records): Human Studies Film Archives\n",
      "NAA (15 records): National Anthropological Archives\n",
      "NASM (141 records): National Air and Space Museum\n",
      "NMAAHC (2388 records): National Museum of African American History and Culture\n",
      "NMAH (1293132 records): National Museum of American History\n",
      "NMAfA (136 records): National Museum of African Art\n",
      "NMNHANTHRO (479775 records): NMNH - Anthropology Dept.\n",
      "NMNHBIRDS (555055 records): NMNH - Vertebrate Zoology - Birds Division\n",
      "NMNHBOTANY (3675609 records): NMNH - Botany Dept.\n",
      "NMNHEDUCATION (5799 records): NMNH - Education & Outreach\n",
      "NMNHENTO (520923 records): NMNH - Entomology Dept.\n",
      "NMNHFISHES (473637 records): NMNH - Vertebrate Zoology - Fishes Division\n",
      "NMNHHERPS (581334 records): NMNH - Vertebrate Zoology - Herpetology Division\n",
      "NMNHINV (1924434 records): NMNH - Invertebrate Zoology Dept.\n",
      "NMNHMAMMALS (616251 records): NMNH - Vertebrate Zoology - Mammals Division\n",
      "NMNHMINSCI (443713 records): NMNH - Mineral Sciences Dept.\n",
      "NMNHPALEO (669420 records): NMNH - Paleobiology Dept.\n",
      "NPG (8369 records): National Portrait Gallery\n",
      "NPM (2547 records): National Postal Museum\n",
      "SAAM (12547 records): Smithsonian American Art Museum\n",
      "SI (11 records): Smithsonian Institution, Digitization Program Office\n",
      "SIA (29416 records): Smithsonian Institution Archives\n",
      "SIL (15218 records): Smithsonian Libraries\n",
      "Finished finding units and counting: 2020-03-04 12:25:04.298632, took 0:41:27.624884\n"
     ]
    }
   ],
   "source": [
    "# Sort & output results\n",
    "print(\"Found \" + str(count) + \" records\")\n",
    "od = collections.OrderedDict(sorted(unitMap.items()))\n",
    "with open('units.txt','w') as out:\n",
    "    out.write(\"Total: \" + str(count) + \" records\\n\")\n",
    "    out.write(\"\")\n",
    "    for k, v in od.items():\n",
    "        unitStr = k + \" (\" + str(unitCount[k]) + \" records)\" + \": \" + \";\".join(v)\n",
    "        print(unitStr)\n",
    "        out.write(unitStr + \"\\n\")\n",
    "\n",
    "\n",
    "printStepTime(\"finding units and counting\")"
   ]
  },
  {
   "cell_type": "code",
   "execution_count": null,
   "metadata": {},
   "outputs": [],
   "source": [
    "# Split by units\n",
    "# TODO: Move into decompress?\n",
    "#   PRO: Split early\n",
    "#   CON: Adds more overhead to decompress at that point\n",
    "\n",
    "with open('all_data.ndjson') as infile:\n",
    "    for line in infile:\n",
    "        data = ujson.loads(line)\n",
    "        unitCode = data['unitCode']\n",
    "        \n",
    "        with open('data_unit_' + unitCode + '.ndjson','a') as out:\n",
    "            out.write(line)\n",
    "\n",
    "printStepTime(\"splitting by unit\")"
   ]
  },
  {
   "cell_type": "code",
   "execution_count": 25,
   "metadata": {},
   "outputs": [],
   "source": [
    "# Matt Miller's meta\n",
    "\n",
    "# this just holds the over all record count\n",
    "count = 0\n",
    "\n",
    "# these hold all of the lookup counts we are going to be making\n",
    "has_media_loopup = {}\n",
    "has_no_media_loopup = {}\n",
    "freetext_fields = {}\n",
    "indexedStructured_fields = {}\n",
    "date_index = {}\n",
    "topic_index = {}\n",
    "topic_index_by_dept = {}\n",
    "country_index = {}\n",
    "width_height = {}\n",
    "\n",
    "# these are the regular expression patterns to look for the mesurments in cm\n",
    "cmx4 = re.compile(r\"([0-9]+\\.*[0-9]*)\\s+c*m*[×x ]*\\s([0-9]+\\.*[0-9]*)\\s+c*m*[×x ]*([0-9]+\\.*[0-9]*)\\s+c*m*[×x ]*([0-9]+\\.*[0-9]*)\\s*cm\")\n",
    "cmx3 = re.compile(r\"([0-9]+\\.*[0-9]*)\\s+c*m*[×x ]*([0-9]+\\.*[0-9]*)\\s+c*m*[×x ]*([0-9]+\\.*[0-9]*)\\s*cm\")\n",
    "cmx2 = re.compile(r\"([0-9]+\\.*[0-9]*)\\s+c*m*[×x ]*([0-9]+\\.*[0-9]*)\\s*c*m\")\n",
    "\n",
    "with open('all_data.ndjson') as infile:\n",
    "\n",
    "\t# ope the big json file and loop through line by line\n",
    "\tfor line in infile:\n",
    "\n",
    "\t\t# parse the line of json into data\n",
    "\t\tdata = ujson.loads(line)\t\n",
    "\n",
    "\t\tcount+=1\n",
    "#\t\t# every 100K records let us know where we are at\n",
    "#\t\tif count % 100000 == 0:\n",
    "#\t\t\tprint(count)\n",
    "\n",
    "\n",
    "\t\t# the department is always there\n",
    "\t\tdept = data['content']['descriptiveNonRepeating']['data_source']\n",
    "\n",
    "\t\t# look through each date field and add it to the lookup count\n",
    "\t\tif 'indexedStructured' in data['content']:\n",
    "\t\t\tif 'date' in data['content']['indexedStructured']:\n",
    "\t\t\t\tfor date in data['content']['indexedStructured']['date']:\n",
    "\t\t\t\t\tif date not in date_index:\n",
    "\t\t\t\t\t\tdate_index[date] = 0\n",
    "\t\t\t\t\tdate_index[date]+=1\n",
    "\n",
    "\t\t# look through each topic field and add it to the lookup count\n",
    "\t\tif 'indexedStructured' in data['content']:\n",
    "\t\t\tif 'topic' in data['content']['indexedStructured']:\n",
    "\t\t\t\tfor topic in data['content']['indexedStructured']['topic']:\n",
    "\t\t\t\t\tif topic not in topic_index:\n",
    "\t\t\t\t\t\ttopic_index[topic] = 0\n",
    "\t\t\t\t\ttopic_index[topic]+=1\n",
    "\n",
    "\t\t\t\t\tif dept not in topic_index_by_dept:\n",
    "\t\t\t\t\t\ttopic_index_by_dept[dept] = {}\n",
    "\n",
    "\t\t\t\t\tif topic not in topic_index_by_dept[dept]:\n",
    "\t\t\t\t\t\ttopic_index_by_dept[dept][topic] = 0\n",
    "\n",
    "\t\t\t\t\ttopic_index_by_dept[dept][topic]+=1\n",
    "\n",
    "\n",
    "\n",
    "\t\t# look through each geoLocation field and add it to the lookup count\n",
    "\t\tif 'indexedStructured' in data['content']:\n",
    "\t\t\tif 'geoLocation' in data['content']['indexedStructured']:\n",
    "\t\t\t\tfor x in data['content']['indexedStructured']['geoLocation']:\n",
    "\t\t\t\t\tif 'L2' in x:\n",
    "\t\t\t\t\t\tif isinstance(x['L2'], str):\n",
    "\t\t\t\t\t\t\tk =x['L2']\n",
    "\t\t\t\t\t\telse:\n",
    "\t\t\t\t\t\t\tk = x['L2']['content']\n",
    "\n",
    "\t\t\t\t\t\tif k not in country_index:\n",
    "\t\t\t\t\t\t\tcountry_index[k] = 0\n",
    "\n",
    "\t\t\t\t\t\tcountry_index[k]+=1\n",
    "\n",
    "\t\t# look through each physicalDescription field see if it has the string \"cm\" in it, if it does try our 3 reg ex patterns to try and pull out the height and width\n",
    "\t\tif 'freetext' in data['content']:\n",
    "\t\t\tif 'physicalDescription' in data['content']['freetext']:\n",
    "\t\t\t\tfor x in data['content']['freetext']['physicalDescription']:\n",
    "\t\t\t\t\tif 'cm' in x['content']:\n",
    "\n",
    "\t\t\t\t\t\theight = None\n",
    "\t\t\t\t\t\twidth = None\n",
    "\n",
    "\t\t\t\t\t\ts = cmx4.search(x['content'])\n",
    "\t\t\t\t\t\tif s:\n",
    "\t\t\t\t\t\t\t# print(s)\n",
    "\t\t\t\t\t\t\t# print(s.group(1), s.group(2),s.group(3),s.group(4))\n",
    "\t\t\t\t\t\t\twidth = s.group(1)\n",
    "\t\t\t\t\t\t\theight = s.group(2)\n",
    "\t\t\t\t\t\telse:\n",
    "\t\t\t\t\t\t\ts = cmx3.search(x['content'])\n",
    "\t\t\t\t\t\t\tif s:\n",
    "\t\t\t\t\t\t\t\t# print(s)\n",
    "\t\t\t\t\t\t\t\t# print(s.group(1), s.group(2),s.group(3))\n",
    "\t\t\t\t\t\t\t\twidth = s.group(1)\n",
    "\t\t\t\t\t\t\t\theight = s.group(2)\n",
    "\n",
    "\t\t\t\t\t\t\telse:\n",
    "\t\t\t\t\t\t\t\ts = cmx2.search(x['content'])\n",
    "\t\t\t\t\t\t\t\tif s:\n",
    "\n",
    "\t\t\t\t\t\t\t\t\twidth = s.group(1)\n",
    "\t\t\t\t\t\t\t\t\theight = s.group(2)\t\t\t\t\t\t\t\t\t\n",
    "\t\t\t\t\t\t\t\t\t# print(s)\n",
    "\t\t\t\t\t\t\t\t\t# print(s.group(1), s.group(2))\n",
    "\t\t\t\t\t\t\t\t# else:\n",
    "\t\t\t\t\t\t\t\t# \tprint(\"SHHHHITTT\")\n",
    "\t\t\t\t\t\t\t\t# \tprint(x['content'])\n",
    "\n",
    "\n",
    "\t\t\t\t\t\tif width:\n",
    "\t\t\t\t\t\t\twh_key = width + 'x' + height\n",
    "\t\t\t\t\t\t\tif wh_key not in width_height:\n",
    "\t\t\t\t\t\t\t\twidth_height[wh_key] = {'count':0, 'hw': [width,height]}\n",
    "\n",
    "\t\t\t\t\t\t\twidth_height[wh_key]['count']+=1\n",
    "\n",
    "\n",
    "\n",
    "\n",
    "\t\t\n",
    "\t\t# Build the basic, has media and field counts\n",
    "\t\tif 'online_media' in data['content']['descriptiveNonRepeating']:\n",
    "\t\t\tif data['content']['descriptiveNonRepeating']['data_source'] not in has_media_loopup:\n",
    "\t\t\t\thas_media_loopup[data['content']['descriptiveNonRepeating']['data_source']] = 0\n",
    "\t\t\t\n",
    "\n",
    "\t\t\thas_media_loopup[data['content']['descriptiveNonRepeating']['data_source']]+=1\n",
    "\t\telse:\n",
    "\t\t\tif data['content']['descriptiveNonRepeating']['data_source'] not in has_no_media_loopup:\n",
    "\t\t\t\thas_no_media_loopup[data['content']['descriptiveNonRepeating']['data_source']] = 0\n",
    "\n",
    "\n",
    "\t\t\thas_no_media_loopup[data['content']['descriptiveNonRepeating']['data_source']]+=1\n",
    "\n",
    "\t\tif 'freetext' in data['content']:\n",
    "\t\t\tfor key in data['content']['freetext'].keys():\n",
    "\t\t\t\tif key not in freetext_fields:\n",
    "\t\t\t\t\tfreetext_fields[key] = 0\n",
    "\t\t\t\tfreetext_fields[key]+=1\n",
    "\n",
    "\n",
    "\t\tif 'indexedStructured' in data['content']:\n",
    "\t\t\tfor key in data['content']['indexedStructured'].keys():\n",
    "\t\t\t\tif key not in indexedStructured_fields:\n",
    "\t\t\t\t\tindexedStructured_fields[key] = 0\n",
    "\t\t\t\tindexedStructured_fields[key]+=1"
   ]
  },
  {
   "cell_type": "code",
   "execution_count": 26,
   "metadata": {},
   "outputs": [
    {
     "name": "stdout",
     "output_type": "stream",
     "text": [
      "Finished Matt Miller's meta: 2020-03-04 11:37:20.455714, took 1:47:18.675512\n"
     ]
    }
   ],
   "source": [
    "# write it out \n",
    "ujson.dump(has_media_loopup,open('stats/has_media_loopup.json','w'),indent=2)\n",
    "ujson.dump(has_no_media_loopup,open('stats/has_no_media_loopup.json','w'),indent=2)\n",
    "ujson.dump(indexedStructured_fields,open('stats/indexedStructured_fields.json','w'),indent=2)\n",
    "ujson.dump(freetext_fields,open('stats/freetext_fields.json','w'),indent=2)\n",
    "ujson.dump(width_height,open('stats/width_height.json','w'),indent=2)\n",
    "ujson.dump(date_index,open('stats/date_index.json','w'),indent=2)\n",
    "ujson.dump(topic_index,open('stats/topic_index.json','w'),indent=2)\n",
    "ujson.dump(country_index,open('stats/country_index.json','w'),indent=2)\n",
    "ujson.dump(topic_index_by_dept,open('stats/topic_index_by_dept.json','w'),indent=2)\n",
    "\n",
    "printStepTime(\"Matt Miller's meta\")"
   ]
  },
  {
   "cell_type": "code",
   "execution_count": 28,
   "metadata": {},
   "outputs": [],
   "source": [
    "# Search for Outdoor Sculpture in SI records; output subset\n",
    "\n",
    "!grep -i \"outdoor sculpture\" all_data.ndjson > osculpt_grep.ndjson\n",
    "\n",
    "# Convert ndjson to json\n",
    "!echo \"[\" > osculpt_grep.json\n",
    "!head --lines=-1 osculpt_grep.ndjson | awk '{ print $0 \",\" }' >> osculpt_grep.json\n",
    "!tail --lines=1 osculpt_grep.ndjson >> osculpt_grep.json\n",
    "!echo \"]\" >> osculpt_grep.json"
   ]
  },
  {
   "cell_type": "code",
   "execution_count": 34,
   "metadata": {},
   "outputs": [
    {
     "name": "stdout",
     "output_type": "stream",
     "text": [
      "Found 17 Outdoor Sculpture records\n",
      "Finished searching for Outdoor Sculpture: 2020-03-04 11:43:36.673748, took 0:02:23.634237\n"
     ]
    }
   ],
   "source": [
    "# Pretty-print json\n",
    "with open('osculpt_grep.json') as infile:\n",
    "    parsed = json.load(infile)\n",
    "    print(\"Found \" + str(len(parsed)) + \" Outdoor Sculpture records\")\n",
    "    \n",
    "    with open('osculpt_grep_pretty.json','w') as out:\n",
    "        out.write(json.dumps(parsed, indent=4))\n",
    "\n",
    "printStepTime(\"searching for Outdoor Sculpture\")"
   ]
  },
  {
   "cell_type": "code",
   "execution_count": 31,
   "metadata": {},
   "outputs": [
    {
     "name": "stdout",
     "output_type": "stream",
     "text": [
      "Finished: 2020-03-04 11:41:34.127095\n",
      "Total Time: 1:51:32.346893\n"
     ]
    }
   ],
   "source": [
    "endTime = datetime.now()\n",
    "print(\"Finished: \" + str(endTime))\n",
    "print(\"Total Time: \" + str(endTime - startTime))"
   ]
  },
  {
   "cell_type": "code",
   "execution_count": null,
   "metadata": {},
   "outputs": [],
   "source": []
  }
 ],
 "metadata": {
  "kernelspec": {
   "display_name": "Python 3",
   "language": "python",
   "name": "python3"
  },
  "language_info": {
   "codemirror_mode": {
    "name": "ipython",
    "version": 3
   },
   "file_extension": ".py",
   "mimetype": "text/x-python",
   "name": "python",
   "nbconvert_exporter": "python",
   "pygments_lexer": "ipython3",
   "version": "3.8.2"
  }
 },
 "nbformat": 4,
 "nbformat_minor": 4
}
